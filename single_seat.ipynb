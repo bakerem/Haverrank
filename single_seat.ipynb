{
 "cells": [
  {
   "attachments": {},
   "cell_type": "markdown",
   "metadata": {},
   "source": [
    "# Python Script for single seat elections \n",
    "## Based on example script from Github for pyrankvote\n",
    "\n",
    "Necessary imports: pyrankvote and pandas. In order to import these, type pip install pandas and/or pip install pyrankvote. (See below)\n",
    "\n",
    "VERY IMPORTANT:\n",
    "    At the beginning of each semester, the senior election coordinator should train the junior election coordinator on how to use this.\n",
    "    Please make sure that they understand completely so this process can work smoothly in the future. \n",
    "Steps to run this script successfully:\n",
    "1. Export ballot from Engage\n",
    "2. Clean results file (see below)\n",
    "3. Change list in candidate names to be the names of the candidates (line 7). Put these names in quotes. Each name should have no spaces. \n",
    "4. Change csv file in line 8 from \"results.csv\" to the correct file name\n",
    "5. Run each cell by clicking run cell or Shift+enter on your keyboard with the cell selected. \n",
    "\n",
    "    \n",
    "How to clean results file\n",
    "1. Delete unnecessary rows so that the only rows are 1 header and one column for each ranking choice.\n",
    "2. The exact header column names do not matter, but something like \"Rank 1\", \"Rank 2\", etc. is sensible.\n",
    "3. Find and Replace all of the candidate names and change them to a one word code like their first name or last name. Repeat this for the blank votes and no votes. They should all be formatted to something like \"firstname_lastname\", \"no_vote\", and \"blank_1\". This is the name you will input in the list of candidate_names in line 7 in this file. \n",
    "4. For Excel: Highlight columns with data and go to \"Find and Select\" -> \"Go to Special\" -> \"Blanks\". Then, once blank rows are highlighted go to delete sheet rows. This will delete all blank rows that would other be annoying to deal with. There is no easy way to do this in Google sheets, so excel is really better.\n",
    "4. Once you do this, you should have a spreadsheet that has one header column and rows with the ranks that different voters gave. Each cell should have one word in it and there should be no blank rows. An example of a cleaned csv file is given in \"example.csv\" in this repository.\n",
    "5. Save the file as a csv file and paste the file path in row 8. \n",
    "\n",
    "\n",
    "For questions, contact Ethan Baker '24 bakerethan47@gmail.com\n",
    "    If you make changes, replace your name here!!\n"
   ]
  },
  {
   "cell_type": "code",
   "execution_count": 1,
   "metadata": {},
   "outputs": [
    {
     "name": "stdout",
     "output_type": "stream",
     "text": [
      "Requirement already satisfied: pyrankvote in /home/bakerem/.local/lib/python3.8/site-packages (2.0.6)\n",
      "Requirement already satisfied: tabulate in /home/bakerem/.local/lib/python3.8/site-packages (from pyrankvote) (0.9.0)\n",
      "Note: you may need to restart the kernel to use updated packages.\n"
     ]
    }
   ],
   "source": [
    "pip install pyrankvote"
   ]
  },
  {
   "cell_type": "code",
   "execution_count": 2,
   "metadata": {},
   "outputs": [
    {
     "name": "stdout",
     "output_type": "stream",
     "text": [
      "Requirement already satisfied: pandas in /home/bakerem/.local/lib/python3.8/site-packages (1.5.3)\n",
      "Requirement already satisfied: pytz>=2020.1 in /home/bakerem/.local/lib/python3.8/site-packages (from pandas) (2022.7.1)\n",
      "Requirement already satisfied: python-dateutil>=2.8.1 in /home/bakerem/.local/lib/python3.8/site-packages (from pandas) (2.8.2)\n",
      "Requirement already satisfied: numpy>=1.20.3; python_version < \"3.10\" in /home/bakerem/.local/lib/python3.8/site-packages (from pandas) (1.24.2)\n",
      "Requirement already satisfied: six>=1.5 in /usr/lib/python3/dist-packages (from python-dateutil>=2.8.1->pandas) (1.14.0)\n",
      "Note: you may need to restart the kernel to use updated packages.\n"
     ]
    }
   ],
   "source": [
    "pip install pandas"
   ]
  },
  {
   "cell_type": "markdown",
   "metadata": {},
   "source": []
  },
  {
   "cell_type": "code",
   "execution_count": 1,
   "metadata": {},
   "outputs": [
    {
     "name": "stdout",
     "output_type": "stream",
     "text": [
      "['no_vote', 'swat', 'bmc', 'haverford', 'blank_1', 'blank_2', 'blank_3']\n",
      "ROUND 1\n",
      "Candidate      Votes  Status\n",
      "-----------  -------  --------\n",
      "bmc              228  Hopeful\n",
      "haverford        202  Hopeful\n",
      "swat             105  Rejected\n",
      "no_vote           58  Rejected\n",
      "blank_1            2  Rejected\n",
      "blank_3            1  Rejected\n",
      "blank_2            0  Rejected\n",
      "\n",
      "FINAL RESULT\n",
      "Candidate      Votes  Status\n",
      "-----------  -------  --------\n",
      "bmc              286  Elected\n",
      "haverford        253  Rejected\n",
      "swat               0  Rejected\n",
      "no_vote            0  Rejected\n",
      "blank_1            0  Rejected\n",
      "blank_3            0  Rejected\n",
      "blank_2            0  Rejected\n",
      "Blank Votes       57  Rejected\n",
      "\n"
     ]
    }
   ],
   "source": [
    "# Imports \n",
    "import pyrankvote\n",
    "from pyrankvote import Candidate, Ballot\n",
    "import pandas as pd\n",
    "\n",
    "## Change Candidate Names and name of cleaned csv file here ##\n",
    "candidate_names = [\"no_vote\", \"swat\", \"bmc\", \"haverford\", \"blank_1\", \"blank_2\", \"blank_3\"]\n",
    "results = pd.read_csv(\"example.csv\")\n",
    "\n",
    "#############################################\n",
    " # DO NOT CHANGE ANYTHING BELOW THIS LINE #\n",
    "#############################################\n",
    "\n",
    "# Iterates through the list of candidate names (strings)\n",
    "# to create a list of candidate objects \n",
    "candidates = []\n",
    "for i in range(len(candidate_names)):\n",
    "    candidate = Candidate(candidate_names[i])\n",
    "    candidates.append(candidate)\n",
    "\n",
    "\n",
    "# Creates a list of ballot objects by iterating through each\n",
    "# row of the csv file containing results and creating a ballot \n",
    "# from each row\n",
    "ballots = []\n",
    "print(candidate_names)\n",
    "for index, row in results.iterrows():\n",
    "    row = list(row)\n",
    "    for i in range(len(row)):\n",
    "        for j in range(len(candidate_names)):\n",
    "            if row[i] == candidate_names[j]:\n",
    "                row[i] = candidates[j]\n",
    "                break\n",
    "    ballots.append(Ballot(row))\n",
    "\n",
    "\n",
    "\n",
    "# Calculates results\n",
    "election_result = pyrankvote.instant_runoff_voting(candidates, ballots)\n",
    "\n",
    "winners = election_result.get_winners()\n",
    "\n",
    "print(election_result)\n"
   ]
  },
  {
   "cell_type": "code",
   "execution_count": null,
   "metadata": {},
   "outputs": [],
   "source": []
  }
 ],
 "metadata": {
  "kernelspec": {
   "display_name": "Python 3",
   "language": "python",
   "name": "python3"
  },
  "language_info": {
   "codemirror_mode": {
    "name": "ipython",
    "version": 3
   },
   "file_extension": ".py",
   "mimetype": "text/x-python",
   "name": "python",
   "nbconvert_exporter": "python",
   "pygments_lexer": "ipython3",
   "version": "3.8.10"
  },
  "orig_nbformat": 4
 },
 "nbformat": 4,
 "nbformat_minor": 2
}
